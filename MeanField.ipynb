{
 "cells": [
  {
   "cell_type": "code",
   "execution_count": 1,
   "metadata": {},
   "outputs": [],
   "source": [
    "import torch\n",
    "import torch.autograd as autograd\n",
    "import torch.nn as nn\n",
    "import torch.optim as optim\n",
    "from torch.autograd import Variable\n",
    "import torch.nn.functional as F\n",
    "from matplotlib import pyplot as plt\n",
    "import numpy as np\n",
    "\n",
    "torch.manual_seed(1)\n",
    "VERBOSE = True\n",
    "\n",
    "import data\n",
    "from model import *\n",
    "from train import *"
   ]
  },
  {
   "cell_type": "code",
   "execution_count": 2,
   "metadata": {},
   "outputs": [
    {
     "data": {
      "text/plain": [
       "(Variable containing:\n",
       " \n",
       " Columns 0 to 12 \n",
       "     4     4     3     3     6     8     8     7     9     9    -1    -1     0\n",
       "     9     7     7     9     4     3     2     4     6     8    -1    -1     0\n",
       " \n",
       " Columns 13 to 21 \n",
       "     1     0     1     1     0     0     1     1     1\n",
       "     0     0     0     1     0     1     1     0     1\n",
       " [torch.cuda.FloatTensor of size 2x22 (GPU 0)], Variable containing:\n",
       "  38\n",
       "  18\n",
       " [torch.cuda.FloatTensor of size 2 (GPU 0)])"
      ]
     },
     "execution_count": 2,
     "metadata": {},
     "output_type": "execute_result"
    }
   ],
   "source": [
    "crit = torch.nn.MSELoss()\n",
    "sampler = data.sum_samp\n",
    "    \n",
    "    \n",
    "sampler()"
   ]
  },
  {
   "cell_type": "code",
   "execution_count": 3,
   "metadata": {},
   "outputs": [],
   "source": [
    "def train(model, epoch=10000, low=3, high=20, lr=0.01, mom=0.9, batch=24):\n",
    "    EPOCH = epoch\n",
    "    optimizer = optim.SGD(model.parameters(), lr=lr, momentum=mom)\n",
    "    losses = []\n",
    "    gen_losses = []\n",
    "    for i in range(EPOCH):\n",
    "        model.train()\n",
    "        model.zero_grad()\n",
    "        n = np.random.randint(low, high, size=1)[0]\n",
    "\n",
    "        data, label = sampler(length=n, batch=batch)\n",
    "        pred = model(data)\n",
    "        loss = crit(pred, label)\n",
    "        add = 0\n",
    "        if 'loss' in model.__dict__:\n",
    "            add = model.loss\n",
    "            #print(add)\n",
    "        \n",
    "        #print(i, loss.data[0])\n",
    "\n",
    "        factor = 0.5 ** ( i // 2000)\n",
    "        ((loss + add) * factor).backward()\n",
    "        optimizer.step()\n",
    "        ##testing\n",
    "        if i % 100 == 0:\n",
    "            model.eval()\n",
    "            data, label = sampler(length=high+5, batch=50)\n",
    "            pred = model(data)\n",
    "            #print(i, loss.data[0])\n",
    "            gen_loss = crit(pred, label)\n",
    "            losses.append(loss.data.cpu().numpy()[0])\n",
    "            gen_losses.append(gen_loss.data.cpu().numpy()[0])\n",
    "            if VERBOSE:\n",
    "                print(i, loss.data.cpu().numpy()[0], gen_loss.data.cpu().numpy()[0])\n",
    "\n",
    "    return [losses, gen_losses]\n",
    "\n",
    "def test(model, high=60):\n",
    "    length_losses = []\n",
    "    total = 0\n",
    "    for l in range(1, high):\n",
    "        model.eval()\n",
    "        data, label = sampler(length=l, batch=100)\n",
    "        pred = model(data)\n",
    "        #print(i, loss.data[0])\n",
    "        loss = crit(pred, label)\n",
    "        length_losses.append(loss.data.cpu().numpy())\n",
    "        total = total + loss.data.cpu().numpy()\n",
    "    print(total)\n",
    "    return length_losses\n",
    "\n"
   ]
  },
  {
   "cell_type": "code",
   "execution_count": 39,
   "metadata": {},
   "outputs": [
    {
     "name": "stdout",
     "output_type": "stream",
     "text": [
      "Variable containing:\n",
      "1.00000e-02 *\n",
      "  6.6304\n",
      "[torch.cuda.FloatTensor of size 1x1 (GPU 0)]\n",
      "\n"
     ]
    }
   ],
   "source": [
    "\n",
    "\n",
    "data, label = sampler(length=10, batch=1)\n",
    "model = BiLSTM().cuda()\n",
    "x = model(data)\n",
    "\n",
    "print(x)"
   ]
  },
  {
   "cell_type": "code",
   "execution_count": 40,
   "metadata": {},
   "outputs": [
    {
     "name": "stdout",
     "output_type": "stream",
     "text": [
      "0 1298.1796\n",
      "100 48.08223\n",
      "200 79.47558\n",
      "300 74.86379\n",
      "400 15.028647\n",
      "500 21.837305\n",
      "600 58.178818\n",
      "700 15.754415\n",
      "800 33.060368\n",
      "900 39.15242\n",
      "1000 38.330997\n",
      "1100 141.52261\n",
      "1200 14.307681\n",
      "1300 26.037994\n",
      "1400 31.584032\n",
      "1500 14.69421\n",
      "1600 28.273733\n",
      "1700 21.874311\n",
      "1800 34.04581\n",
      "1900 53.217342\n",
      "2000 16.886621\n",
      "2100 26.765863\n",
      "2200 7.7388306\n",
      "2300 17.079\n",
      "2400 44.92561\n",
      "2500 37.700256\n",
      "2600 21.251364\n",
      "2700 34.943264\n",
      "2800 22.76628\n",
      "2900 8.821626\n",
      "3000 18.654734\n",
      "3100 38.161526\n",
      "3200 18.02085\n",
      "3300 16.768038\n",
      "3400 30.656448\n",
      "3500 9.405529\n",
      "3600 18.283865\n",
      "3700 28.082544\n",
      "3800 55.352665\n",
      "3900 15.087682\n",
      "4000 16.869974\n",
      "4100 10.296332\n",
      "4200 24.977318\n",
      "4300 10.622168\n",
      "4400 20.333834\n",
      "4500 11.435895\n",
      "4600 14.38834\n",
      "4700 37.46964\n",
      "4800 20.478289\n",
      "4900 49.348236\n",
      "5000 55.26271\n",
      "5100 27.506279\n",
      "5200 9.760816\n",
      "5300 4.00209\n",
      "5400 25.702085\n",
      "5500 22.947973\n",
      "5600 6.275287\n",
      "5700 14.035061\n",
      "5800 5.5934124\n",
      "5900 12.441878\n",
      "6000 13.238777\n",
      "6100 32.556953\n",
      "6200 31.720007\n",
      "6300 23.383047\n",
      "6400 18.037893\n",
      "6500 9.791673\n",
      "6600 5.425054\n",
      "6700 9.047694\n",
      "6800 11.087811\n",
      "6900 28.558838\n",
      "7000 59.493206\n",
      "7100 36.725018\n",
      "7200 50.261623\n",
      "7300 28.971582\n",
      "7400 49.557293\n",
      "7500 25.148376\n",
      "7600 37.345165\n",
      "7700 9.4186125\n",
      "7800 15.536156\n",
      "7900 19.132303\n",
      "8000 18.805473\n",
      "8100 51.16628\n",
      "8200 7.708748\n",
      "8300 20.322237\n",
      "8400 16.300257\n",
      "8500 17.71924\n",
      "8600 15.552804\n",
      "8700 18.403296\n",
      "8800 22.821012\n",
      "8900 34.131176\n",
      "9000 44.08052\n",
      "9100 33.290432\n",
      "9200 25.208132\n",
      "9300 38.097656\n",
      "9400 20.120783\n",
      "9500 15.457547\n",
      "9600 17.538939\n",
      "9700 16.227528\n",
      "9800 21.936956\n",
      "9900 18.21858\n"
     ]
    }
   ],
   "source": [
    "model = BiLSTM(hidden_dim=128).cuda()\n",
    "losses = train(model, low=3, high=20, lr=0.001)"
   ]
  },
  {
   "cell_type": "code",
   "execution_count": 14,
   "metadata": {},
   "outputs": [
    {
     "data": {
      "image/png": "[encoded data removed]",
      "text/plain": [
       "<matplotlib.figure.Figure at 0x7fc1c760e9e8>"
      ]
     },
     "metadata": {},
     "output_type": "display_data"
    }
   ],
   "source": [
    "\n",
    "plt.plot(losses)\n",
    "plt.show()\n"
   ]
  },
  {
   "cell_type": "code",
   "execution_count": 43,
   "metadata": {},
   "outputs": [
    {
     "name": "stdout",
     "output_type": "stream",
     "text": [
      "[37386.586]\n"
     ]
    },
    {
     "data": {
      "text/plain": [
       "[<matplotlib.lines.Line2D at 0x7fc155ee4128>]"
      ]
     },
     "execution_count": 43,
     "metadata": {},
     "output_type": "execute_result"
    },
    {
     "data": {
      "image/png": "[encoded data removed]",
      "text/plain": [
       "<matplotlib.figure.Figure at 0x7fc0f052aba8>"
      ]
     },
     "metadata": {},
     "output_type": "display_data"
    }
   ],
   "source": [
    "\n",
    "length_losses = test(model, high=50)\n",
    "plt.plot(length_losses)"
   ]
  },
  {
   "cell_type": "code",
   "execution_count": 16,
   "metadata": {},
   "outputs": [
    {
     "name": "stdout",
     "output_type": "stream",
     "text": [
      "Variable containing:\n",
      "(0 ,.,.) = \n",
      " -0.1850\n",
      "\n",
      "(1 ,.,.) = \n",
      " -0.1881\n",
      "\n",
      "(2 ,.,.) = \n",
      " -0.1834\n",
      "[torch.cuda.FloatTensor of size 3x1x1 (GPU 0)]\n",
      "\n"
     ]
    }
   ],
   "source": [
    "\n",
    "    \n",
    "    \n",
    "data, label = sampler(length=10, batch=3)\n",
    "model = LSTMAtt().cuda()\n",
    "x = model(data)\n",
    "print(x)"
   ]
  },
  {
   "cell_type": "code",
   "execution_count": 43,
   "metadata": {},
   "outputs": [
    {
     "data": {
      "text/plain": [
       "[<matplotlib.lines.Line2D at 0x7ff03833e278>]"
      ]
     },
     "execution_count": 43,
     "metadata": {},
     "output_type": "execute_result"
    },
    {
     "data": {
      "image/png": "[encoded data removed]",
      "text/plain": [
       "<matplotlib.figure.Figure at 0x7ff038af3630>"
      ]
     },
     "metadata": {},
     "output_type": "display_data"
    }
   ],
   "source": [
    "model = LSTMAtt(hidden_dim=128).cuda()\n",
    "losses = train(model, low=1, high=20)\n",
    "plt.plot(losses)"
   ]
  },
  {
   "cell_type": "code",
   "execution_count": 44,
   "metadata": {},
   "outputs": [
    {
     "data": {
      "text/plain": [
       "[<matplotlib.lines.Line2D at 0x7ff0382856a0>]"
      ]
     },
     "execution_count": 44,
     "metadata": {},
     "output_type": "execute_result"
    },
    {
     "data": {
      "image/png": "[encoded data removed]",
      "text/plain": [
       "<matplotlib.figure.Figure at 0x7ff038a9d4a8>"
      ]
     },
     "metadata": {},
     "output_type": "display_data"
    }
   ],
   "source": [
    "## test generalization to longer sequences than seen\n",
    "\n",
    "length_losses = test(model, high=100)\n",
    "plt.plot(length_losses)"
   ]
  },
  {
   "cell_type": "code",
   "execution_count": 47,
   "metadata": {},
   "outputs": [
    {
     "name": "stdout",
     "output_type": "stream",
     "text": [
      "Variable containing:\n",
      "(0 ,.,.) = \n",
      "  4.9170\n",
      "[torch.cuda.FloatTensor of size 1x1x1 (GPU 0)]\n",
      "\n",
      "[0.06912032 0.06324742 0.06492888 0.06364674 0.06400149 0.05947411\n",
      " 0.04921124 0.04327369 0.03334971 0.02804038 0.02077445 0.0173232\n",
      " 0.01306122 0.01071426 0.00942975 0.00950609 0.00976664 0.00985526\n",
      " 0.01170486 0.01407015 0.01646395 0.02045399 0.02583749 0.03347417\n",
      " 0.03893216 0.04278332 0.04454098 0.04488367 0.03935856 0.02877189]\n",
      "[[1. 0. 1. 1. 0. 0. 1. 0. 1. 0. 1. 0. 1. 1. 1. 0. 0. 1. 0. 0. 1. 1. 1. 0.\n",
      "  1. 1. 1. 0. 0. 0.]]\n"
     ]
    }
   ],
   "source": [
    "length = 30\n",
    "data, label = sampler(length=length, batch=1)\n",
    "model.eval()\n",
    "x, att = model.test_att(data)\n",
    "att = att.data.cpu().numpy().flatten()\n",
    "\n",
    "print(x)\n",
    "\n",
    "print(att)\n",
    "print(data.data.cpu().numpy())\n",
    "\n",
    "data = data.data.cpu().numpy()[0].astype('int')\n",
    "att = np.repeat(att, 2)"
   ]
  },
  {
   "cell_type": "code",
   "execution_count": 48,
   "metadata": {},
   "outputs": [
    {
     "name": "stdout",
     "output_type": "stream",
     "text": [
      "(60,)\n",
      "[1 0 1 1 0 0 1 0 1 0 1 0 1 1 1 0 0 1 0 0 1 1 1 0 1 1 1 0 0 0]\n"
     ]
    },
    {
     "data": {
      "image/png": "[encoded data removed]",
      "text/plain": [
       "<matplotlib.figure.Figure at 0x7ff13afca278>"
      ]
     },
     "metadata": {},
     "output_type": "display_data"
    },
    {
     "name": "stdout",
     "output_type": "stream",
     "text": [
      "Variable containing:\n",
      "(0 ,.,.) = \n",
      "  4.9170\n",
      "[torch.cuda.FloatTensor of size 1x1x1 (GPU 0)]\n",
      " Variable containing:\n",
      " 9\n",
      "[torch.cuda.FloatTensor of size 1 (GPU 0)]\n",
      "\n"
     ]
    }
   ],
   "source": [
    "\n",
    "\n",
    "#data = (np.repeat(data, 1, axis=1))\n",
    "\n",
    "#att =np.log(att)\n",
    "\n",
    "axis = plt.gca()\n",
    "#axis.set_aspect('equal') # X scale matches Y scale\n",
    "heatmap = axis.pcolor([att], cmap='bone')\n",
    "#plt.axis('off')\n",
    "print(att.shape)\n",
    "#plt.set_xticklabels(data[0])\n",
    "#plt.subplot(1, 5, 5)\n",
    "axis.set_xticks(range(0, length * 2 , 2), minor=False)       # Get locations and labels\n",
    "print(data)\n",
    "axis.set_xticklabels(data)\n",
    "#print(locs)\n",
    "#plt.xticks(range(0, 20, 1), [data[0]])  # Set locations and labels\n",
    "\n",
    "plt.colorbar(mappable=heatmap) # Tells plt where it should find the color info.\n",
    "plt.show()\n",
    "#plt.gca().remove()\n",
    "print(x, label)"
   ]
  },
  {
   "cell_type": "code",
   "execution_count": 230,
   "metadata": {},
   "outputs": [
    {
     "name": "stdout",
     "output_type": "stream",
     "text": [
      "[0.05397202 0.07117224 0.06131057 0.06348418 0.06942981 0.06420679\n",
      " 0.06477425 0.05529935 0.06825701 0.06923447 0.05777654 0.06508371]\n"
     ]
    }
   ],
   "source": [
    "\n",
    "data, label = sampler(length=10, batch=12)\n",
    "model = MeanFieldCRF().cuda()\n",
    "x = model(data)\n",
    "\n",
    "print(x.data.cpu().numpy().flatten())"
   ]
  },
  {
   "cell_type": "code",
   "execution_count": 240,
   "metadata": {},
   "outputs": [
    {
     "name": "stdout",
     "output_type": "stream",
     "text": [
      "0 2868.2148 29683.34\n",
      "100 2995.2852 5772.706\n",
      "200 2355.3235 4626.391\n",
      "300 5792.3867 8240.285\n",
      "400 1661.2598 2296.0146\n",
      "500 1079.8575 7984.0\n",
      "600 808.7303 6584.56\n",
      "700 1111.0596 2527.9607\n",
      "800 904.0042 5814.866\n",
      "900 338.7043 5554.0356\n",
      "1000 210.91699 8312.562\n",
      "1100 1926.395 3028.0762\n",
      "1200 793.65704 5815.355\n",
      "1300 1243.8678 1724.1935\n",
      "1400 813.85767 4815.8936\n",
      "1500 168.96893 7742.3755\n",
      "1600 1026.9333 2826.9824\n",
      "1700 534.2302 4468.3833\n",
      "1800 611.76874 1825.6527\n",
      "1900 432.10745 3538.2837\n",
      "2000 329.6899 1536.5094\n",
      "2100 345.08105 1919.2756\n",
      "2200 276.8744 2181.001\n",
      "2300 376.99292 1545.5833\n",
      "2400 185.9203 2607.2764\n",
      "2500 342.5709 2523.2668\n",
      "2600 3582.3623 2487.6775\n",
      "2700 765.62256 4904.3887\n",
      "2800 318.30423 1508.6362\n",
      "2900 993.37177 2858.3894\n",
      "3000 609.25946 1685.1852\n",
      "3100 1612.2865 3446.6338\n",
      "3200 739.83185 5109.3193\n",
      "3300 190.01172 3584.9888\n",
      "3400 252.00862 4006.5793\n",
      "3500 2087.702 4321.5854\n",
      "3600 1084.7281 1917.3115\n",
      "3700 198.58882 2606.1428\n",
      "3800 344.70703 2999.941\n",
      "3900 596.47565 2635.7131\n",
      "4000 257.5629 2165.0232\n",
      "4100 224.16675 1514.422\n",
      "4200 271.77704 1337.3297\n",
      "4300 350.4941 1323.174\n",
      "4400 431.65674 909.6311\n",
      "4500 143.48566 1132.9901\n",
      "4600 181.57129 1319.21\n",
      "4700 219.65483 757.46735\n",
      "4800 288.767 865.2346\n",
      "4900 302.50256 1231.1584\n",
      "5000 440.9536 1001.66284\n",
      "5100 518.7788 681.127\n",
      "5200 280.36893 907.84015\n",
      "5300 236.45287 1145.0947\n",
      "5400 548.2881 1482.3196\n",
      "5500 128.26752 1531.989\n",
      "5600 176.58583 824.62274\n",
      "5700 240.58836 827.9107\n",
      "5800 406.68466 804.2291\n",
      "5900 122.70459 862.46124\n",
      "6000 108.5195 404.10382\n",
      "6100 136.01376 667.4045\n",
      "6200 197.5916 694.07556\n",
      "6300 329.461 1305.381\n",
      "6400 219.94727 785.7775\n",
      "6500 268.1743 764.3639\n",
      "6600 162.31105 1306.2219\n",
      "6700 196.77087 677.69916\n",
      "6800 132.87492 814.2714\n",
      "6900 89.06968 541.6153\n",
      "7000 143.06027 587.13165\n",
      "7100 154.69499 417.0392\n",
      "7200 251.25545 731.78925\n",
      "7300 97.39518 805.5577\n",
      "7400 176.48187 870.6771\n",
      "7500 102.313805 418.01938\n",
      "7600 92.58014 589.2969\n",
      "7700 164.9772 538.57166\n",
      "7800 91.61506 602.7134\n",
      "7900 154.39844 1055.3185\n",
      "8000 78.707466 417.66113\n",
      "8100 91.946045 683.33875\n",
      "8200 227.34648 398.91562\n",
      "8300 283.15662 503.44757\n",
      "8400 132.21631 517.0996\n",
      "8500 136.25667 584.30835\n",
      "8600 71.81594 793.30005\n",
      "8700 101.30796 543.8219\n",
      "8800 135.83693 368.74237\n",
      "8900 152.14355 441.732\n",
      "9000 95.8645 522.2952\n",
      "9100 119.150085 564.0427\n",
      "9200 105.52352 602.53546\n",
      "9300 171.62279 676.98694\n",
      "9400 103.793304 392.47717\n",
      "9500 78.60998 333.2826\n",
      "9600 183.22676 417.50836\n",
      "9700 85.486885 470.53778\n",
      "9800 114.81635 292.92365\n",
      "9900 109.14191 372.23642\n"
     ]
    },
    {
     "data": {
      "text/plain": [
       "[<matplotlib.lines.Line2D at 0x7fc0e91fcac8>]"
      ]
     },
     "execution_count": 240,
     "metadata": {},
     "output_type": "execute_result"
    },
    {
     "data": {
      "image/png": "[encoded data removed]",
      "text/plain": [
       "<matplotlib.figure.Figure at 0x7fc0f03ab898>"
      ]
     },
     "metadata": {},
     "output_type": "display_data"
    }
   ],
   "source": [
    "model = MeanFieldCRF(hidden_dim=128, spin_dim=16).cuda()\n",
    "losses = train(model, low=15, high=70, lr=0.001, mom=0.9, epoch=10000)\n",
    "plt.plot(losses[0])\n",
    "plt.plot(losses[1])"
   ]
  },
  {
   "cell_type": "code",
   "execution_count": 186,
   "metadata": {},
   "outputs": [
    {
     "name": "stdout",
     "output_type": "stream",
     "text": [
      "[[197.54738, 75.45944, 46.889965, 224.21483, 50.20137, 5.588205, 47.36618, 15.797326, 14.654335, 63.54521, 24.8607, 30.54896, 11.793689, 29.430342, 12.246543, 12.056607, 29.340647, 17.742865, 8.937378, 8.7106905, 24.244074, 25.069681, 8.122388, 15.064667, 23.143206, 66.14734, 45.96999, 13.9001875, 13.026696, 38.897068, 22.24465, 56.01933, 20.939325, 9.905381, 16.606102, 25.185904, 24.516794, 28.156515, 10.568385, 39.444294, 8.9321375, 27.21232, 24.26285, 40.597324, 8.847032, 23.52913, 36.574352, 23.073618, 12.676234, 22.961931], [Variable containing:\n",
      " 3035.1084\n",
      "[torch.cuda.FloatTensor of size 1 (GPU 0)]\n",
      ", Variable containing:\n",
      " 392.5005\n",
      "[torch.cuda.FloatTensor of size 1 (GPU 0)]\n",
      ", Variable containing:\n",
      " 406.9398\n",
      "[torch.cuda.FloatTensor of size 1 (GPU 0)]\n",
      ", Variable containing:\n",
      " 610.2806\n",
      "[torch.cuda.FloatTensor of size 1 (GPU 0)]\n",
      ", Variable containing:\n",
      " 270.9160\n",
      "[torch.cuda.FloatTensor of size 1 (GPU 0)]\n",
      ", Variable containing:\n",
      " 323.3076\n",
      "[torch.cuda.FloatTensor of size 1 (GPU 0)]\n",
      ", Variable containing:\n",
      " 239.6703\n",
      "[torch.cuda.FloatTensor of size 1 (GPU 0)]\n",
      ", Variable containing:\n",
      " 283.6365\n",
      "[torch.cuda.FloatTensor of size 1 (GPU 0)]\n",
      ", Variable containing:\n",
      " 155.1807\n",
      "[torch.cuda.FloatTensor of size 1 (GPU 0)]\n",
      ", Variable containing:\n",
      " 131.2771\n",
      "[torch.cuda.FloatTensor of size 1 (GPU 0)]\n",
      ", Variable containing:\n",
      " 228.8318\n",
      "[torch.cuda.FloatTensor of size 1 (GPU 0)]\n",
      ", Variable containing:\n",
      " 97.0163\n",
      "[torch.cuda.FloatTensor of size 1 (GPU 0)]\n",
      ", Variable containing:\n",
      " 191.6200\n",
      "[torch.cuda.FloatTensor of size 1 (GPU 0)]\n",
      ", Variable containing:\n",
      " 146.7243\n",
      "[torch.cuda.FloatTensor of size 1 (GPU 0)]\n",
      ", Variable containing:\n",
      " 110.3974\n",
      "[torch.cuda.FloatTensor of size 1 (GPU 0)]\n",
      ", Variable containing:\n",
      " 186.9723\n",
      "[torch.cuda.FloatTensor of size 1 (GPU 0)]\n",
      ", Variable containing:\n",
      " 163.2162\n",
      "[torch.cuda.FloatTensor of size 1 (GPU 0)]\n",
      ", Variable containing:\n",
      " 128.1806\n",
      "[torch.cuda.FloatTensor of size 1 (GPU 0)]\n",
      ", Variable containing:\n",
      " 114.0189\n",
      "[torch.cuda.FloatTensor of size 1 (GPU 0)]\n",
      ", Variable containing:\n",
      " 109.9720\n",
      "[torch.cuda.FloatTensor of size 1 (GPU 0)]\n",
      ", Variable containing:\n",
      " 127.5578\n",
      "[torch.cuda.FloatTensor of size 1 (GPU 0)]\n",
      ", Variable containing:\n",
      " 114.7918\n",
      "[torch.cuda.FloatTensor of size 1 (GPU 0)]\n",
      ", Variable containing:\n",
      " 135.1934\n",
      "[torch.cuda.FloatTensor of size 1 (GPU 0)]\n",
      ", Variable containing:\n",
      " 81.1227\n",
      "[torch.cuda.FloatTensor of size 1 (GPU 0)]\n",
      ", Variable containing:\n",
      " 101.6144\n",
      "[torch.cuda.FloatTensor of size 1 (GPU 0)]\n",
      ", Variable containing:\n",
      " 150.1139\n",
      "[torch.cuda.FloatTensor of size 1 (GPU 0)]\n",
      ", Variable containing:\n",
      " 100.6980\n",
      "[torch.cuda.FloatTensor of size 1 (GPU 0)]\n",
      ", Variable containing:\n",
      " 121.5683\n",
      "[torch.cuda.FloatTensor of size 1 (GPU 0)]\n",
      ", Variable containing:\n",
      " 111.2694\n",
      "[torch.cuda.FloatTensor of size 1 (GPU 0)]\n",
      ", Variable containing:\n",
      " 136.2661\n",
      "[torch.cuda.FloatTensor of size 1 (GPU 0)]\n",
      ", Variable containing:\n",
      " 97.3392\n",
      "[torch.cuda.FloatTensor of size 1 (GPU 0)]\n",
      ", Variable containing:\n",
      " 73.8340\n",
      "[torch.cuda.FloatTensor of size 1 (GPU 0)]\n",
      ", Variable containing:\n",
      " 134.3889\n",
      "[torch.cuda.FloatTensor of size 1 (GPU 0)]\n",
      ", Variable containing:\n",
      " 105.2145\n",
      "[torch.cuda.FloatTensor of size 1 (GPU 0)]\n",
      ", Variable containing:\n",
      " 105.0553\n",
      "[torch.cuda.FloatTensor of size 1 (GPU 0)]\n",
      ", Variable containing:\n",
      " 80.0305\n",
      "[torch.cuda.FloatTensor of size 1 (GPU 0)]\n",
      ", Variable containing:\n",
      " 127.1263\n",
      "[torch.cuda.FloatTensor of size 1 (GPU 0)]\n",
      ", Variable containing:\n",
      " 79.7080\n",
      "[torch.cuda.FloatTensor of size 1 (GPU 0)]\n",
      ", Variable containing:\n",
      " 70.9987\n",
      "[torch.cuda.FloatTensor of size 1 (GPU 0)]\n",
      ", Variable containing:\n",
      " 99.8611\n",
      "[torch.cuda.FloatTensor of size 1 (GPU 0)]\n",
      ", Variable containing:\n",
      " 181.3204\n",
      "[torch.cuda.FloatTensor of size 1 (GPU 0)]\n",
      ", Variable containing:\n",
      " 139.2058\n",
      "[torch.cuda.FloatTensor of size 1 (GPU 0)]\n",
      ", Variable containing:\n",
      " 120.0615\n",
      "[torch.cuda.FloatTensor of size 1 (GPU 0)]\n",
      ", Variable containing:\n",
      " 102.4141\n",
      "[torch.cuda.FloatTensor of size 1 (GPU 0)]\n",
      ", Variable containing:\n",
      " 141.3934\n",
      "[torch.cuda.FloatTensor of size 1 (GPU 0)]\n",
      ", Variable containing:\n",
      " 110.2199\n",
      "[torch.cuda.FloatTensor of size 1 (GPU 0)]\n",
      ", Variable containing:\n",
      " 84.9173\n",
      "[torch.cuda.FloatTensor of size 1 (GPU 0)]\n",
      ", Variable containing:\n",
      " 120.3424\n",
      "[torch.cuda.FloatTensor of size 1 (GPU 0)]\n",
      ", Variable containing:\n",
      " 94.4340\n",
      "[torch.cuda.FloatTensor of size 1 (GPU 0)]\n",
      ", Variable containing:\n",
      " 89.8853\n",
      "[torch.cuda.FloatTensor of size 1 (GPU 0)]\n",
      "]]\n"
     ]
    }
   ],
   "source": [
    "print(losses)"
   ]
  },
  {
   "cell_type": "code",
   "execution_count": 243,
   "metadata": {},
   "outputs": [
    {
     "name": "stdout",
     "output_type": "stream",
     "text": [
      "[58585.133]\n"
     ]
    },
    {
     "data": {
      "text/plain": [
       "[<matplotlib.lines.Line2D at 0x7fc0e8210ac8>]"
      ]
     },
     "execution_count": 243,
     "metadata": {},
     "output_type": "execute_result"
    },
    {
     "data": {
      "image/png": "[encoded data removed]",
      "text/plain": [
       "<matplotlib.figure.Figure at 0x7fc0ea9b9588>"
      ]
     },
     "metadata": {},
     "output_type": "display_data"
    }
   ],
   "source": [
    "## test generalization to longer sequences than seen\n",
    "\n",
    "length_losses = test(model, high=90)\n",
    "plt.plot(length_losses)"
   ]
  },
  {
   "cell_type": "code",
   "execution_count": 83,
   "metadata": {},
   "outputs": [
    {
     "data": {
      "text/plain": [
       "[<matplotlib.lines.Line2D at 0x7f92f2938898>]"
      ]
     },
     "execution_count": 83,
     "metadata": {},
     "output_type": "execute_result"
    },
    {
     "data": {
      "image/png": "[encoded data removed]",
      "text/plain": [
       "<matplotlib.figure.Figure at 0x7f92f1d6e6a0>"
      ]
     },
     "metadata": {},
     "output_type": "display_data"
    }
   ],
   "source": [
    "length_losses = test(model, high=100)\n",
    "plt.plot(length_losses)"
   ]
  },
  {
   "cell_type": "code",
   "execution_count": 245,
   "metadata": {},
   "outputs": [
    {
     "name": "stdout",
     "output_type": "stream",
     "text": [
      "(404,)\n"
     ]
    },
    {
     "data": {
      "image/png": "[encoded data removed]",
      "text/plain": [
       "<matplotlib.figure.Figure at 0x7fc0e814de48>"
      ]
     },
     "metadata": {},
     "output_type": "display_data"
    },
    {
     "name": "stdout",
     "output_type": "stream",
     "text": [
      "Variable containing:\n",
      "(0 ,.,.) = \n",
      "  159.7784\n",
      "[torch.cuda.FloatTensor of size 1x1x1 (GPU 0)]\n",
      " Variable containing:\n",
      " 193\n",
      "[torch.cuda.FloatTensor of size 1 (GPU 0)]\n",
      "\n",
      "[1. 1. 1. 1. 1. 1. 1. 1. 1. 1. 1. 1. 1. 1. 1. 1. 1. 1. 1. 1. 1. 1. 1. 1.\n",
      " 1. 1. 1. 1. 1. 1. 1. 1. 1. 1. 1. 1. 1. 1. 1. 1. 1. 1. 1. 1. 1. 1. 1. 1.\n",
      " 1. 1. 1. 1. 1. 1. 1. 1. 1. 1. 1. 1. 1. 1. 1. 1. 1. 1. 1. 1. 1. 1. 1. 1.\n",
      " 1. 1. 1. 1. 1. 1. 1. 1. 1. 1. 1. 1. 1. 1. 1. 1. 1. 1. 1. 1. 1. 1. 1. 1.\n",
      " 1. 1. 1. 1. 1. 1. 1. 1. 1. 1. 1. 1. 1. 1. 1. 1. 1. 1. 1. 1. 1. 1. 1. 1.\n",
      " 1. 1. 1. 1. 1. 1. 1. 1. 1. 1. 1. 1. 1. 1. 1. 1. 1. 1. 1. 1. 1. 1. 1. 1.\n",
      " 1. 1. 1. 1. 1. 1. 1. 1. 1. 1. 1. 1. 1. 1. 1. 1. 1. 1. 1. 1. 1. 1. 1. 1.\n",
      " 1. 1. 1. 1. 1. 1. 1. 1. 1. 1. 1. 1. 1. 1. 1. 1. 1. 1. 1. 1. 1. 1. 1. 1.\n",
      " 1. 1. 1. 1. 1. 1. 1. 1. 1. 1. 1. 1. 1. 1. 1. 1. 1. 1. 1. 1. 1. 1. 1. 1.\n",
      " 1. 1. 1. 1. 1. 1. 1. 1. 1. 1. 1. 1. 1. 1. 1. 1. 1. 1. 1. 1. 1. 1. 1. 1.\n",
      " 1. 1. 1. 1. 1. 1. 1. 1. 1. 1. 1. 1. 1. 1. 1. 1. 1. 1. 1. 1. 1. 1. 1. 1.\n",
      " 1. 1. 1. 1. 1. 1. 1. 1. 1. 1. 1. 1. 1. 1. 1. 1. 1. 1. 1. 1. 1. 1. 1. 1.\n",
      " 1. 1. 1. 1. 1. 1. 1. 1. 1. 1. 1. 1. 1. 1. 1. 1. 1. 1. 1. 1. 1. 1. 1. 1.\n",
      " 1. 1. 1. 1. 1. 1. 1. 1. 1. 1. 1. 1. 1. 1. 1. 1. 1. 1. 1. 1. 1. 1. 1. 1.\n",
      " 1. 1. 1. 1. 1. 1. 1. 1. 1. 1. 1. 1. 1. 1. 1. 1. 1. 1. 1. 1. 1. 1. 1. 1.\n",
      " 1. 1. 1. 1. 1. 1. 1. 1. 1. 1. 1. 1. 1. 1. 1. 1. 1. 1. 1. 1. 1. 1. 1. 1.\n",
      " 1. 1. 1. 1. 1. 1. 1. 1. 1. 1. 1. 1. 1. 1. 1. 1. 1. 1. 1. 1.]\n"
     ]
    }
   ],
   "source": [
    "length = 100\n",
    "data, label = sampler(length=length, batch=1)\n",
    "model.eval()\n",
    "x, att = model.test_att(data)\n",
    "att = att.data.cpu().numpy().flatten()\n",
    "\n",
    "#print(x)\n",
    "#\n",
    "#print(att)\n",
    "#print(data.data.cpu().numpy())\n",
    "\n",
    "data = data.data.cpu().numpy()[0].astype('int')\n",
    "att = np.repeat(att, 2)\n",
    "#data = (np.repeat(data, 1, axis=1))\n",
    "#print(att)\n",
    "#att =np.log(att)\n",
    "\n",
    "axis = plt.gca()\n",
    "#axis.set_aspect('equal') # X scale matches Y scale\n",
    "heatmap = axis.pcolor([att], cmap='bone')\n",
    "#plt.axis('off')\n",
    "print(att.shape)\n",
    "#plt.set_xticklabels(data[0])\n",
    "#plt.subplot(1, 5, 5)\n",
    "axis.set_xticks(range(0, (length + 2) * 4 , 2), minor=False)       # Get locations and labels\n",
    "#print(data)\n",
    "#axis.set_xticklabels(data[:length] * data[-length:] + data[length:])\n",
    "axis.set_xticklabels(data)\n",
    "#print(locs)\n",
    "#plt.xticks(range(0, 20, 1), [data[0]])  # Set locations and lab\n",
    "plt.colorbar(mappable=heatmap) # Tells plt where it should find the color info.\n",
    "plt.show()\n",
    "#plt.gca().remove()\n",
    "print(x, label)\n",
    "print(att)"
   ]
  },
  {
   "cell_type": "code",
   "execution_count": 229,
   "metadata": {},
   "outputs": [
    {
     "name": "stdout",
     "output_type": "stream",
     "text": [
      "Variable containing:\n",
      "   -0     1     1  ...      1     1     1\n",
      "    1    -0     1  ...      1     1     1\n",
      "    1     1    -0  ...      1     1     1\n",
      "       ...          ⋱          ...       \n",
      "    1     1     1  ...     -0     1     1\n",
      "    1     1     1  ...      1    -0     1\n",
      "    1     1     1  ...      1     1    -0\n",
      "[torch.cuda.FloatTensor of size 42x42 (GPU 0)]\n",
      "\n",
      "[[-0.          0.99142665  0.9833467  ... -0.7988026   0.11189377\n",
      "  -0.676978  ]\n",
      " [ 0.99142665 -0.          0.9967762  ... -0.80166537  0.1481923\n",
      "  -0.68700784]\n",
      " [ 0.9833467   0.9967762  -0.         ... -0.7901639   0.16968079\n",
      "  -0.6774572 ]\n",
      " ...\n",
      " [-0.7988026  -0.80166537 -0.7901639  ... -0.          0.3680974\n",
      "   0.7882474 ]\n",
      " [ 0.11189377  0.1481923   0.16968079 ...  0.3680974  -0.\n",
      "   0.31263012]\n",
      " [-0.676978   -0.68700784 -0.6774572  ...  0.7882474   0.31263012\n",
      "  -0.        ]]\n",
      "[[-0.          0.99142665 -0.         ... -0.         -0.\n",
      "  -0.        ]\n",
      " [ 0.99142665 -0.          0.99677622 ... -0.         -0.\n",
      "  -0.        ]\n",
      " [-0.          0.99677622 -0.         ... -0.         -0.\n",
      "  -0.        ]\n",
      " ...\n",
      " [-0.         -0.         -0.         ... -0.          0.36809739\n",
      "   0.78824741]\n",
      " [-0.         -0.         -0.         ...  0.36809739 -0.\n",
      "  -0.        ]\n",
      " [-0.         -0.         -0.         ...  0.78824741 -0.\n",
      "  -0.        ]]\n",
      "(42, 42)\n"
     ]
    },
    {
     "data": {
      "image/png": "[encoded data removed]",
      "text/plain": [
       "<matplotlib.figure.Figure at 0x7fc0e913d8d0>"
      ]
     },
     "metadata": {},
     "output_type": "display_data"
    },
    {
     "name": "stdout",
     "output_type": "stream",
     "text": [
      "Variable containing:\n",
      "(0 ,.,.) = \n",
      "  59.5813\n",
      "[torch.cuda.FloatTensor of size 1x1x1 (GPU 0)]\n",
      " Variable containing:\n",
      " 67\n",
      "[torch.cuda.FloatTensor of size 1 (GPU 0)]\n",
      "\n",
      "[0.97548974 0.97548974 0.99217117 0.99217117 0.9970186  0.9970186\n",
      " 0.9999974  0.9999974  0.99978024 0.99978024 0.9977494  0.9977494\n",
      " 0.64994735 0.64994735 0.99989116 0.99989116 0.99972636 0.99972636\n",
      " 0.840785   0.840785   0.77232796 0.77232796 0.9998654  0.9998654\n",
      " 0.9994671  0.9994671  0.9984542  0.9984542  0.02828183 0.02828183\n",
      " 0.8791176  0.8791176  0.99812096 0.99812096 0.99925953 0.99925953\n",
      " 0.74459004 0.74459004 0.66935664 0.66935664 0.44834968 0.44834968\n",
      " 0.6237007  0.6237007  0.6935744  0.6935744  0.7063961  0.7063961\n",
      " 0.7181803  0.7181803  0.84900516 0.84900516 0.74915594 0.74915594\n",
      " 0.6172688  0.6172688  0.4688814  0.4688814  0.32222614 0.32222614\n",
      " 0.22775282 0.22775282 0.14401366 0.14401366 0.07184152 0.07184152\n",
      " 0.06916599 0.06916599 0.06566042 0.06566042 0.06237595 0.06237595\n",
      " 0.06173729 0.06173729 0.04233392 0.04233392 0.14300987 0.14300987\n",
      " 0.15017235 0.15017235 0.1701081  0.1701081  0.06891923 0.06891923]\n"
     ]
    }
   ],
   "source": [
    "\n",
    "#print(model.unary_)\n",
    "#print(model.potential_)\n",
    "a = model.potential_ \n",
    "b = torch.sum(a, dim=1) + model.unary_\n",
    "time_dim = a.shape[1]\n",
    "mask = Variable(torch.eye(time_dim)).cuda()\n",
    "mask = -1 * (mask - 1)\n",
    "print(mask)\n",
    "a = a * mask\n",
    "from scipy.sparse.csgraph import minimum_spanning_tree as mst\n",
    "\n",
    "a = a.data.cpu().numpy()[0]\n",
    "print(a)\n",
    "c = -mst(-a).toarray()\n",
    "c = c + c.T\n",
    "print(c)\n",
    "axis = plt.gca()\n",
    "#axis.set_aspect('equal') # X scale matches Y scale\n",
    "heatmap = axis.pcolor(c, cmap='bone')\n",
    "#plt.axis('off')\n",
    "print(c.shape)\n",
    "#plt.set_xticklabels(data[0])\n",
    "#plt.subplot(1, 5, 5)\n",
    "axis.set_xticks(range(0, length ,), minor=False)       # Get locations and labels\n",
    "#print(data)\n",
    "axis.set_xticklabels(data)\n",
    "\n",
    "axis.set_yticks(range(0, length ,), minor=False)       # Get locations and labels\n",
    "#print(data)\n",
    "axis.set_yticklabels(data)\n",
    "#print(locs)\n",
    "#plt.xticks(range(0, 20, 1), [data[0]])  # Set locations and labels\n",
    "\n",
    "plt.colorbar(mappable=heatmap) # Tells plt where it should find the color info.\n",
    "plt.show()\n",
    "#plt.gca().remove()\n",
    "print(x, label)\n",
    "print(att)"
   ]
  },
  {
   "cell_type": "code",
   "execution_count": 202,
   "metadata": {},
   "outputs": [
    {
     "data": {
      "text/plain": [
       "{'_backend': <torch.nn.backends.thnn.THNNFunctionBackend at 0x7fc15b39d978>,\n",
       " '_backward_hooks': OrderedDict(),\n",
       " '_buffers': OrderedDict(),\n",
       " '_forward_hooks': OrderedDict(),\n",
       " '_forward_pre_hooks': OrderedDict(),\n",
       " '_modules': OrderedDict([('lstm', LSTM(1, 64, bidirectional=True)),\n",
       "              ('hid2out', Linear(in_features=128, out_features=1)),\n",
       "              ('unary', Linear(in_features=128, out_features=1)),\n",
       "              ('hid2spin', Sequential(\n",
       "                 (0): Linear(in_features=128, out_features=128)\n",
       "                 (1): ReLU()\n",
       "                 (2): Linear(in_features=128, out_features=8)\n",
       "               ))]),\n",
       " '_parameters': OrderedDict(),\n",
       " 'bi': True,\n",
       " 'hidden': (Variable containing:\n",
       "  (0 ,.,.) = \n",
       "  \n",
       "  Columns 0 to 8 \n",
       "    -1.3078  0.6208  0.4437  1.3983  2.6316 -0.6277  0.0992 -0.6374 -1.3178\n",
       "  \n",
       "  Columns 9 to 17 \n",
       "    -2.5621 -0.9875 -0.5857 -0.9119  0.5994 -0.0027  0.3114  1.3893  0.3089\n",
       "  \n",
       "  Columns 18 to 26 \n",
       "     0.8594  0.7845  1.0515  0.5013  2.2530  0.5288 -2.0077 -1.8080 -1.7824\n",
       "  \n",
       "  Columns 27 to 35 \n",
       "    -1.5205 -1.3128  1.7436 -1.0060  0.4744 -1.1797 -0.9251 -0.7779 -0.6769\n",
       "  \n",
       "  Columns 36 to 44 \n",
       "    -1.1966 -0.4532 -0.1569  0.9777  0.4019  0.8218  0.4474  0.7255 -0.3136\n",
       "  \n",
       "  Columns 45 to 53 \n",
       "    -2.1452 -1.4121  1.4261  1.2278 -0.1079  1.3509  0.5977 -0.6066  0.5723\n",
       "  \n",
       "  Columns 54 to 62 \n",
       "     0.5356 -1.4391 -2.1541 -0.4771  0.4893  0.6342 -0.3881 -0.7945  0.8271\n",
       "  \n",
       "  Columns 63 to 63 \n",
       "     0.6624\n",
       "  \n",
       "  (1 ,.,.) = \n",
       "  \n",
       "  Columns 0 to 8 \n",
       "    -0.1541 -0.3108 -1.0755  0.6986  0.3329 -1.4372 -0.9778 -1.3507 -0.2414\n",
       "  \n",
       "  Columns 9 to 17 \n",
       "    -2.1709  0.5234  0.5529 -0.2473 -0.8669  1.2260 -0.8968 -1.6273  0.3098\n",
       "  \n",
       "  Columns 18 to 26 \n",
       "    -0.1585 -3.1903 -0.0071  0.5694  2.3856  1.6314 -2.4359 -1.1128  0.0546\n",
       "  \n",
       "  Columns 27 to 35 \n",
       "     0.5137 -0.2264  1.2683 -0.9232  1.6560  1.0399  1.5192 -0.4804 -1.4671\n",
       "  \n",
       "  Columns 36 to 44 \n",
       "    -0.9619 -0.8193  0.0891  0.8829  0.1262 -1.0998  0.6193  0.5479 -0.9168\n",
       "  \n",
       "  Columns 45 to 53 \n",
       "    -0.0555 -0.3990  0.7189  1.1711  0.7508  1.1651  0.0810 -0.3046 -1.6781\n",
       "  \n",
       "  Columns 54 to 62 \n",
       "     0.7727  0.9709 -0.9207 -0.8092 -0.8715  0.8730 -0.6892 -0.3198  1.5009\n",
       "  \n",
       "  Columns 63 to 63 \n",
       "     0.4946\n",
       "  [torch.cuda.FloatTensor of size 2x1x64 (GPU 0)], Variable containing:\n",
       "  (0 ,.,.) = \n",
       "  \n",
       "  Columns 0 to 8 \n",
       "    -0.6902 -0.7057  0.7477  2.3000 -0.4147  0.3084  0.2164  1.1872 -0.0897\n",
       "  \n",
       "  Columns 9 to 17 \n",
       "    -2.1664  1.8761 -0.2709 -0.2144  0.3908  0.2742  0.5736  0.1722  0.0938\n",
       "  \n",
       "  Columns 18 to 26 \n",
       "     0.2343 -1.5277  1.4279  0.9459 -0.9264 -1.2457 -0.8178 -0.5079 -1.1735\n",
       "  \n",
       "  Columns 27 to 35 \n",
       "    -0.1688  2.5012 -1.3757  1.1292  1.5914 -0.0036 -0.7134 -0.7526  0.2169\n",
       "  \n",
       "  Columns 36 to 44 \n",
       "     0.1595 -0.5527 -2.1448  0.5858 -0.2340 -2.3189 -3.0701 -0.1765  0.2241\n",
       "  \n",
       "  Columns 45 to 53 \n",
       "     0.4457  1.5934 -0.9594  0.2201 -1.1684  0.0033  0.6783  0.7458 -0.3164\n",
       "  \n",
       "  Columns 54 to 62 \n",
       "     0.0171  0.8691  1.2577  1.2499 -1.1541 -0.3067 -1.4163 -2.1173 -0.7300\n",
       "  \n",
       "  Columns 63 to 63 \n",
       "     0.9580\n",
       "  \n",
       "  (1 ,.,.) = \n",
       "  \n",
       "  Columns 0 to 8 \n",
       "    -2.0722  1.5706 -0.1290 -0.3781  0.5088 -0.8241 -0.3521  0.1570 -0.9299\n",
       "  \n",
       "  Columns 9 to 17 \n",
       "    -0.2523  1.0953 -1.3328  1.0582  0.5005  1.2246 -0.7363  1.8370 -2.2239\n",
       "  \n",
       "  Columns 18 to 26 \n",
       "     0.6064  1.2432  1.1869  0.2317  1.1909  0.7325  0.3697  1.0859 -1.2512\n",
       "  \n",
       "  Columns 27 to 35 \n",
       "     0.8937 -0.5407  0.2244 -0.8590  0.9864 -0.3171 -0.3625  1.2350  1.4082\n",
       "  \n",
       "  Columns 36 to 44 \n",
       "    -0.4965 -1.4274 -0.7732  1.2445  0.0355 -0.3511  1.0111 -0.6591 -0.2633\n",
       "  \n",
       "  Columns 45 to 53 \n",
       "     0.0598 -1.0396  0.7754 -0.4909 -0.3739 -1.5748  0.2495 -0.3512 -0.3591\n",
       "  \n",
       "  Columns 54 to 62 \n",
       "    -1.5604 -0.3595 -0.4972  2.3880  0.5265 -1.4751 -0.5395 -0.5434 -1.4219\n",
       "  \n",
       "  Columns 63 to 63 \n",
       "     0.0230\n",
       "  [torch.cuda.FloatTensor of size 2x1x64 (GPU 0)]),\n",
       " 'hidden_dim': 128,\n",
       " 'loss': Variable containing:\n",
       "  0.7159\n",
       " [torch.cuda.FloatTensor of size 1 (GPU 0)],\n",
       " 'potential_': Variable containing:\n",
       " (0 ,.,.) = \n",
       "   1.0000  0.9985  0.9948  ...   0.5911  0.7453  0.8951\n",
       "   0.9985  1.0000  0.9924  ...   0.6294  0.7755  0.9118\n",
       "   0.9948  0.9924  1.0000  ...   0.5601  0.7251  0.8859\n",
       "            ...             ⋱             ...          \n",
       "   0.5911  0.6294  0.5601  ...   1.0000  0.9705  0.8585\n",
       "   0.7453  0.7755  0.7251  ...   0.9705  1.0000  0.9547\n",
       "   0.8951  0.9118  0.8859  ...   0.8585  0.9547  1.0000\n",
       " [torch.cuda.FloatTensor of size 1x42x42 (GPU 0)],\n",
       " 'training': False,\n",
       " 'unary_': Variable containing:\n",
       " \n",
       " Columns 0 to 7 \n",
       "  14.1150  17.1344  16.5641   7.9679  15.1251   8.6627  17.7261  12.1467\n",
       " \n",
       " Columns 8 to 15 \n",
       "  17.5197  13.9922   8.5303  11.1772   7.0040  15.4952   5.7714  14.7029\n",
       " \n",
       " Columns 16 to 23 \n",
       "  12.6151   4.7198   2.5241  10.9860  -0.1288  -0.8067  -1.6164  -0.4685\n",
       " \n",
       " Columns 24 to 31 \n",
       "  -2.0917  -3.1488  -3.1922  -4.4207  -4.2590  -2.3918   0.1641   2.9640\n",
       " \n",
       " Columns 32 to 39 \n",
       "   5.5307   5.9955   5.9426   5.2474   3.8686   3.8863   5.5912   8.1067\n",
       " \n",
       " Columns 40 to 41 \n",
       "   8.0591   7.6767\n",
       " [torch.cuda.FloatTensor of size 1x42 (GPU 0)]}"
      ]
     },
     "execution_count": 202,
     "metadata": {},
     "output_type": "execute_result"
    }
   ],
   "source": [
    "model.__dict__\n"
   ]
  },
  {
   "cell_type": "code",
   "execution_count": 4,
   "metadata": {},
   "outputs": [
    {
     "name": "stdout",
     "output_type": "stream",
     "text": [
      "[0.14463414 0.17025001 0.14932343 0.1688031  0.1636047  0.1474696\n",
      " 0.16062883 0.13923885 0.16450849 0.12514716 0.14453907 0.1426973 ]\n"
     ]
    }
   ],
   "source": [
    "\n",
    "\n",
    "data, label = sampler(length=10, batch=12)\n",
    "model = MeanFieldCRF().cuda()\n",
    "x = model(data)\n",
    "\n",
    "print(x.data.cpu().numpy().flatten())"
   ]
  },
  {
   "cell_type": "code",
   "execution_count": null,
   "metadata": {},
   "outputs": [
    {
     "name": "stdout",
     "output_type": "stream",
     "text": [
      "0 929.853 4137.6724\n",
      "100 28.485207 908.1155\n",
      "200 61.354847 961.2115\n",
      "300 39.509487 581.8498\n",
      "400 33.397125 208.84908\n",
      "500 14.314771 269.6064\n",
      "600 39.367584 204.08775\n",
      "700 35.91816 238.64238\n",
      "800 20.440386 164.3056\n",
      "900 7.88866 228.17004\n",
      "1000 20.24958 179.1578\n",
      "1100 140.00291 282.25394\n",
      "1200 22.533934 154.36421\n",
      "1300 18.538816 157.35838\n",
      "1400 39.0364 127.1105\n",
      "1500 11.606898 152.12428\n",
      "1600 20.458298 200.60529\n",
      "1700 6.097201 181.07745\n",
      "1800 31.782618 103.836\n",
      "1900 32.810574 200.81995\n",
      "2000 6.2172337 147.63199\n",
      "2100 10.134967 101.495804\n",
      "2200 21.572014 120.70582\n",
      "2300 18.412962 98.64988\n",
      "2400 8.06537 171.83403\n"
     ]
    }
   ],
   "source": [
    "model = MeanFieldCRF(hidden_dim=128, spin_dim=16).cuda()\n",
    "losses = train(model, low=3, high=20, lr=0.001, mom=0.9, epoch=10000)\n",
    "plt.plot(losses[0])\n",
    "plt.plot(losses[1])"
   ]
  },
  {
   "cell_type": "code",
   "execution_count": null,
   "metadata": {},
   "outputs": [],
   "source": []
  }
 ],
 "metadata": {
  "kernelspec": {
   "display_name": "Python 3",
   "language": "python",
   "name": "python3"
  },
  "language_info": {
   "codemirror_mode": {
    "name": "ipython",
    "version": 3
   },
   "file_extension": ".py",
   "mimetype": "text/x-python",
   "name": "python",
   "nbconvert_exporter": "python",
   "pygments_lexer": "ipython3",
   "version": "3.5.2"
  }
 },
 "nbformat": 4,
 "nbformat_minor": 2
}
